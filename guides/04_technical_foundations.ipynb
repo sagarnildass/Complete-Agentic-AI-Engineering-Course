{
 "cells": [
  {
   "cell_type": "markdown",
   "metadata": {},
   "source": [
    "# Technical Foundations\n",
    "\n",
    "It's crucial that you feel comfortable with the basic technical concepts that we work with. This will make your experience of the entire course so much better - it can be very frustrating if you're not sure what's gong on.\n",
    "\n",
    "These guides should build confidence in the underlying technologies we work with."
   ]
  },
  {
   "cell_type": "markdown",
   "metadata": {},
   "source": []
  },
  {
   "cell_type": "markdown",
   "metadata": {},
   "source": [
    "### Environment Variables and the `.env` file\n",
    "\n",
    "This tutorial walks you through everything you need to know about .env files!\n",
    "\n",
    "Obiously you don't need to add the .env file to .gitignore, as I've already done that for you. But it hopefully explains the point well.\n",
    "\n",
    "https://chatgpt.com/share/68061e89-dd84-8012-829d-9f4506c7baaa"
   ]
  },
  {
   "cell_type": "markdown",
   "metadata": {},
   "source": [
    "### Networking basics\n",
    "\n",
    "This tutorial covers networking and typical issues with certificates, VPNs, DNS and the like.\n",
    "\n",
    "The sections give a summary; you should ask ChatGPT to expand on any section if it's relevant to your situation.\n",
    "\n",
    "https://chatgpt.com/share/680620ec-3b30-8012-8c26-ca86693d0e3d"
   ]
  },
  {
   "cell_type": "markdown",
   "metadata": {},
   "source": [
    "### APIs and Client Libraries - foundational briefing\n",
    "\n",
    "We use APIs a lot in this course!\n",
    "\n",
    "It's essential to understand the fundamentals of what's going on when we make a call to an API, and to be comfortable with words like \"endpoint\" and \"client library\".\n",
    "\n",
    "Please review this guide:\n",
    "\n",
    "https://chatgpt.com/share/68062432-43c8-8012-ad91-6311d4ad5858"
   ]
  },
  {
   "cell_type": "markdown",
   "metadata": {},
   "source": []
  }
 ],
 "metadata": {
  "language_info": {
   "name": "python"
  }
 },
 "nbformat": 4,
 "nbformat_minor": 2
}
